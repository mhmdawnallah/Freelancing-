{
 "cells": [
  {
   "cell_type": "code",
   "execution_count": 44,
   "id": "e96f1159",
   "metadata": {},
   "outputs": [],
   "source": [
    "import pandas as pd\n",
    "import json\n",
    "import os"
   ]
  },
  {
   "cell_type": "code",
   "execution_count": 94,
   "id": "22b7508c",
   "metadata": {},
   "outputs": [],
   "source": [
    "df = pd.DataFrame(columns=[\"week\",\"playerRanks\"])\n",
    "frames = []\n",
    "for subdir, dirs, files in os.walk('Golf-Ranking_JSON-Data/'):\n",
    "    for file in files:\n",
    "        #print os.path.join(subdir, file)\n",
    "        filepath = subdir + os.sep + file\n",
    "\n",
    "        if filepath.endswith(\".json\"):\n",
    "            with open(filepath) as data_file:    \n",
    "                d= json.load(data_file)  \n",
    "\n",
    "            normalized_df = pd.json_normalize(d, 'playerRanks').assign(**d['week'])\n",
    "            frames.append(normalized_df)\n",
    "\n",
    "result = pd.concat(frames)\n",
    "\n",
    "result.to_csv(\"Golf Ranking Aggregated.csv\")\n"
   ]
  },
  {
   "cell_type": "code",
   "execution_count": null,
   "id": "2dcb96ff",
   "metadata": {},
   "outputs": [],
   "source": []
  }
 ],
 "metadata": {
  "kernelspec": {
   "display_name": "Python 3",
   "language": "python",
   "name": "python3"
  },
  "language_info": {
   "codemirror_mode": {
    "name": "ipython",
    "version": 3
   },
   "file_extension": ".py",
   "mimetype": "text/x-python",
   "name": "python",
   "nbconvert_exporter": "python",
   "pygments_lexer": "ipython3",
   "version": "3.8.8"
  }
 },
 "nbformat": 4,
 "nbformat_minor": 5
}
